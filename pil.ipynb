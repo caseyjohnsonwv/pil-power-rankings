{
 "cells": [
  {
   "cell_type": "markdown",
   "id": "a2e3d0ad-5e5f-4bbf-8946-88fca03b0200",
   "metadata": {},
   "source": [
    "### Dump 2024 icy TOTDs to DB"
   ]
  },
  {
   "cell_type": "code",
   "execution_count": 1,
   "id": "ce3c6528-9ab3-42ef-a46b-a4124376b709",
   "metadata": {},
   "outputs": [
    {
     "name": "stdout",
     "output_type": "stream",
     "text": [
      "Added 16 maps\n"
     ]
    }
   ],
   "source": [
    "import csv\n",
    "from datetime import datetime\n",
    "from typing import List\n",
    "from sqlalchemy.exc import IntegrityError\n",
    "from db import Map, get_session\n",
    "\n",
    "totd_maps: List[Map] = []\n",
    "\n",
    "with open('./dat/ice_totds.csv', mode='r') as f:\n",
    "    csv_reader = csv.DictReader(f)\n",
    "    for row in csv_reader:\n",
    "        totd_maps.append(\n",
    "            Map(\n",
    "                uid = row['MAP_UID'],\n",
    "                name = row['MAP_NAME'],\n",
    "                totd_date = datetime.strptime(row['TOTD_DATE'], '%Y-%m-%d'),\n",
    "            )\n",
    "        )\n",
    "\n",
    "with get_session() as session:\n",
    "    session.add_all(totd_maps)\n",
    "    try:\n",
    "        session.commit()\n",
    "        print(f\"Added {len(totd_maps)} maps\")\n",
    "    except IntegrityError as ex:\n",
    "        print(f\"Unique constraint failed - maps already loaded\")\n",
    "        session.rollback()"
   ]
  },
  {
   "cell_type": "markdown",
   "id": "f3a0a834-b119-441b-a3be-a69201f037a0",
   "metadata": {},
   "source": [
    "### Dump PIL S2 maps to DB"
   ]
  },
  {
   "cell_type": "code",
   "execution_count": 10,
   "id": "5ba13249-f8f9-4704-8a53-b9de4f2191f9",
   "metadata": {},
   "outputs": [
    {
     "name": "stdout",
     "output_type": "stream",
     "text": [
      "Added 3 maps\n"
     ]
    }
   ],
   "source": [
    "import csv\n",
    "from datetime import datetime\n",
    "from typing import List\n",
    "from sqlalchemy.exc import IntegrityError\n",
    "from db import Map, get_session\n",
    "\n",
    "totd_maps: List[Map] = []\n",
    "\n",
    "with open('./dat/pil_maps.csv', mode='r') as f:\n",
    "    csv_reader = csv.DictReader(f)\n",
    "    for row in csv_reader:\n",
    "        totd_maps.append(\n",
    "            Map(\n",
    "                uid = row['MAP_UID'],\n",
    "                name = row['MAP_NAME'],\n",
    "            )\n",
    "        )\n",
    "\n",
    "with get_session() as session:\n",
    "    session.add_all(totd_maps)\n",
    "    try:\n",
    "        session.commit()\n",
    "        print(f\"Added {len(totd_maps)} maps\")\n",
    "    except IntegrityError as ex:\n",
    "        print(f\"Unique constraint failed - maps already loaded\")\n",
    "        session.rollback()"
   ]
  },
  {
   "cell_type": "markdown",
   "id": "11267b5b-88cf-4503-9325-5e708391eb4b",
   "metadata": {
    "jp-MarkdownHeadingCollapsed": true
   },
   "source": [
    "### Resolve player account_id values from player names"
   ]
  },
  {
   "cell_type": "code",
   "execution_count": 2,
   "id": "9a4fc6f5-97e0-484b-a8f5-de75f63af57c",
   "metadata": {},
   "outputs": [
    {
     "name": "stdout",
     "output_type": "stream",
     "text": [
      "Found 170 players\n"
     ]
    }
   ],
   "source": [
    "import csv\n",
    "from typing import List\n",
    "\n",
    "csv_rows:List[dict] = []\n",
    "\n",
    "with open('./dat/players.csv', mode='r') as f:\n",
    "    csv_reader = csv.DictReader(f)\n",
    "    for row in csv_reader:\n",
    "        csv_rows.append(row)\n",
    "\n",
    "print(f\"Found {len(csv_rows)} players\")"
   ]
  },
  {
   "cell_type": "code",
   "execution_count": 3,
   "id": "157e4dc7-9a5b-4c8d-8d1c-a1ba6307fe3b",
   "metadata": {},
   "outputs": [],
   "source": [
    "import nadeo\n",
    "\n",
    "AUTH_TOKEN = nadeo.public_authenticate()"
   ]
  },
  {
   "cell_type": "code",
   "execution_count": 4,
   "id": "4ed8c94f-792e-4e91-be89-3acdaa29dcdd",
   "metadata": {},
   "outputs": [
    {
     "name": "stdout",
     "output_type": "stream",
     "text": [
      "Failed to resolve account_id for bead_Sillypants\n",
      "Failed to resolve 1 of 170 player account_id values\n"
     ]
    }
   ],
   "source": [
    "import requests\n",
    "\n",
    "fail_count = 0\n",
    "\n",
    "for row in csv_rows:\n",
    "    player_name = row['PLAYER_NAME']\n",
    "    headers = {'Authorization': AUTH_TOKEN}\n",
    "    url = f\"https://api.trackmania.com/api/display-names/account-ids?displayName[]={player_name}\"\n",
    "    resp = requests.get(url=url, headers=headers)\n",
    "    resp.raise_for_status()\n",
    "    j = resp.json()\n",
    "    try:\n",
    "        row['ACCOUNT_ID'] = j[player_name]\n",
    "    except TypeError:\n",
    "        fail_count += 1\n",
    "        print(f\"Failed to resolve account_id for {player_name}\")\n",
    "\n",
    "print(f\"Failed to resolve {fail_count} of {len(csv_rows)} player account_id values\")"
   ]
  },
  {
   "cell_type": "code",
   "execution_count": 6,
   "id": "f27ba902-7609-4146-8950-979ae904da55",
   "metadata": {},
   "outputs": [
    {
     "name": "stdout",
     "output_type": "stream",
     "text": [
      "Wrote 170 rows\n"
     ]
    }
   ],
   "source": [
    "fieldnames = ['TEAM_NAME','PLAYER_NAME','ACCOUNT_ID']\n",
    "    \n",
    "with open('./dat/players_cleaned.csv', mode='w', newline='\\n') as f:\n",
    "    writer = csv.DictWriter(f, fieldnames=fieldnames)\n",
    "    writer.writeheader()  # Write the header row\n",
    "    \n",
    "    for row in csv_rows:\n",
    "        data = {**row}\n",
    "        del data['PLAYER_UID']\n",
    "        writer.writerow(data)\n",
    "\n",
    "print(f\"Wrote {len(csv_rows)} rows\")"
   ]
  },
  {
   "cell_type": "markdown",
   "id": "1b9d6695-f5ec-4cef-a1b3-205b6c7bc5c2",
   "metadata": {
    "jp-MarkdownHeadingCollapsed": true
   },
   "source": [
    "### Dump fully curated players/teams list to DB"
   ]
  },
  {
   "cell_type": "code",
   "execution_count": 7,
   "id": "6d2b49a8-7548-45ae-a725-dab09175c0fd",
   "metadata": {},
   "outputs": [
    {
     "name": "stdout",
     "output_type": "stream",
     "text": [
      "Added 170 players from 29 teams\n"
     ]
    }
   ],
   "source": [
    "import csv\n",
    "from sqlalchemy.exc import IntegrityError\n",
    "from db import Player, Team, get_session\n",
    "\n",
    "num_teams = 0\n",
    "num_players = 0\n",
    "last_team_name = None\n",
    "with get_session() as session:\n",
    "    with open('./dat/players_curated.csv', 'r') as f:\n",
    "        csv_reader = csv.DictReader(f)\n",
    "        for row in csv_reader:    \n",
    "            team_name = row['TEAM_NAME']\n",
    "            if team_name != last_team_name:\n",
    "                team = Team(name = team_name)\n",
    "                last_team_name = team_name\n",
    "                session.add(team)\n",
    "                session.flush()\n",
    "                session.refresh(team)\n",
    "                num_teams += 1\n",
    "            player = Player(\n",
    "                account_id = row['ACCOUNT_ID'],\n",
    "                username = row['PLAYER_NAME'],\n",
    "                team_id = team.id,\n",
    "            )\n",
    "            num_players += 1\n",
    "            session.add(player)\n",
    "    try:\n",
    "        session.commit()\n",
    "        print(f\"Added {num_players} players from {num_teams} teams\")\n",
    "    except IntegrityError as ex:\n",
    "        print(f\"Unique constraint failed - players already loaded\")\n",
    "        session.rollback()"
   ]
  },
  {
   "cell_type": "markdown",
   "id": "1d824c71-653a-4274-aa3f-64f10a41be56",
   "metadata": {},
   "source": [
    "### Gather records from all maps and dump to DB"
   ]
  },
  {
   "cell_type": "code",
   "execution_count": 11,
   "id": "5f6c6928-1719-4bfa-9852-1aac36b91945",
   "metadata": {},
   "outputs": [],
   "source": [
    "import nadeo\n",
    "\n",
    "AUTH_TOKEN = nadeo.live_authenticate()"
   ]
  },
  {
   "cell_type": "code",
   "execution_count": 12,
   "id": "01d4cee1-e9e2-43f3-b633-d61ce9158fdb",
   "metadata": {},
   "outputs": [
    {
     "name": "stdout",
     "output_type": "stream",
     "text": [
      "Retrieving records 1 - 100 for map \"Nelja\"\n",
      "Retrieving records 101 - 200 for map \"Nelja\"\n",
      "Retrieving records 201 - 300 for map \"Nelja\"\n",
      "Retrieving records 301 - 400 for map \"Nelja\"\n",
      "Retrieving records 401 - 500 for map \"Nelja\"\n",
      "Retrieving records 501 - 600 for map \"Nelja\"\n",
      "Retrieving records 601 - 700 for map \"Nelja\"\n",
      "Retrieving records 701 - 800 for map \"Nelja\"\n",
      "Retrieving records 801 - 900 for map \"Nelja\"\n",
      "Retrieving records 901 - 1000 for map \"Nelja\"\n",
      "Added 1000 records for map \"Nelja\"\n",
      "---\n",
      "Retrieving records 1 - 100 for map \"Legacy\"\n",
      "Retrieving records 101 - 200 for map \"Legacy\"\n",
      "Retrieving records 201 - 300 for map \"Legacy\"\n",
      "Retrieving records 301 - 400 for map \"Legacy\"\n",
      "Retrieving records 401 - 500 for map \"Legacy\"\n",
      "Retrieving records 501 - 600 for map \"Legacy\"\n",
      "Retrieving records 601 - 700 for map \"Legacy\"\n",
      "Retrieving records 701 - 800 for map \"Legacy\"\n",
      "Retrieving records 801 - 900 for map \"Legacy\"\n",
      "Retrieving records 901 - 1000 for map \"Legacy\"\n",
      "Added 1000 records for map \"Legacy\"\n",
      "---\n",
      "Retrieving records 1 - 100 for map \"Sven\"\n",
      "Retrieving records 101 - 200 for map \"Sven\"\n",
      "Retrieving records 201 - 300 for map \"Sven\"\n",
      "Retrieving records 301 - 400 for map \"Sven\"\n",
      "Retrieving records 401 - 500 for map \"Sven\"\n",
      "Retrieving records 501 - 600 for map \"Sven\"\n",
      "Retrieving records 601 - 700 for map \"Sven\"\n",
      "Retrieving records 701 - 800 for map \"Sven\"\n",
      "Retrieving records 801 - 900 for map \"Sven\"\n",
      "Retrieving records 901 - 1000 for map \"Sven\"\n",
      "Added 1000 records for map \"Sven\"\n",
      "---\n"
     ]
    }
   ],
   "source": [
    "import requests\n",
    "from db import Map, Player, Record, get_session\n",
    "\n",
    "with get_session() as session:\n",
    "    maps = [m._asdict() for m in session.query(Map.uid, Map.name).filter(Map.totd_date == None).order_by(Map.totd_date).all()]\n",
    "    for m in maps:\n",
    "        map_uid = m['uid']\n",
    "        map_name = m['name']\n",
    "        num_records_added = 0\n",
    "        for offset in range(10):\n",
    "            length = 100\n",
    "            print(f\"Retrieving records {length*offset+1} - {length*(offset+1)} for map \\\"{map_name}\\\"\")\n",
    "            url = f\"https://live-services.trackmania.nadeo.live/api/token/leaderboard/group/Personal_Best/map/{map_uid}/top?onlyWorld=true&length={length}\"\n",
    "            headers = {'Authorization': AUTH_TOKEN}\n",
    "            resp = requests.get(url=url, headers=headers)\n",
    "            resp.raise_for_status()\n",
    "            j = resp.json()\n",
    "            entries = j['tops'][0]['top']\n",
    "            for entry in entries:\n",
    "                record = Record(\n",
    "                    account_id = entry['accountId'],\n",
    "                    map_uid = map_uid,\n",
    "                    time = entry['score'] / 1000.0,\n",
    "                    position = entry['position'],\n",
    "                )\n",
    "                session.add(record)\n",
    "                num_records_added += 1\n",
    "        session.commit()\n",
    "        print(f\"Added {num_records_added} records for map \\\"{map_name}\\\"\")\n",
    "        print('---')"
   ]
  }
 ],
 "metadata": {
  "kernelspec": {
   "display_name": "Python 3 (ipykernel)",
   "language": "python",
   "name": "python3"
  },
  "language_info": {
   "codemirror_mode": {
    "name": "ipython",
    "version": 3
   },
   "file_extension": ".py",
   "mimetype": "text/x-python",
   "name": "python",
   "nbconvert_exporter": "python",
   "pygments_lexer": "ipython3",
   "version": "3.10.4"
  }
 },
 "nbformat": 4,
 "nbformat_minor": 5
}
